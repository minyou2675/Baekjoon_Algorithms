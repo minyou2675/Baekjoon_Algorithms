{
  "nbformat": 4,
  "nbformat_minor": 0,
  "metadata": {
    "colab": {
      "name": "1152단어의 개수.ipynb",
      "provenance": [],
      "authorship_tag": "ABX9TyMAYeBj9TiktLyLOCdzwNHO",
      "include_colab_link": true
    },
    "kernelspec": {
      "name": "python3",
      "display_name": "Python 3"
    },
    "language_info": {
      "name": "python"
    }
  },
  "cells": [
    {
      "cell_type": "markdown",
      "metadata": {
        "id": "view-in-github",
        "colab_type": "text"
      },
      "source": [
        "<a href=\"https://colab.research.google.com/github/minyou2675/Baekjoon_Algorithms/blob/main/1152%EB%8B%A8%EC%96%B4%EC%9D%98_%EA%B0%9C%EC%88%98.ipynb\" target=\"_parent\"><img src=\"https://colab.research.google.com/assets/colab-badge.svg\" alt=\"Open In Colab\"/></a>"
      ]
    },
    {
      "cell_type": "code",
      "execution_count": 17,
      "metadata": {
        "id": "u84JW3h3wHKt",
        "colab": {
          "base_uri": "https://localhost:8080/"
        },
        "outputId": "ebc2f143-6dc9-4d31-d37f-abfe9e542a74"
      },
      "outputs": [
        {
          "output_type": "stream",
          "name": "stdout",
          "text": [
            " The first character is a blank\n",
            "삭제\n",
            "['The', 'first', 'character', 'is', 'a', 'blank']\n",
            "6\n"
          ]
        }
      ],
      "source": [
        "list = input().split(' ')\n",
        "\n",
        "if list[0]  == '':\n",
        "  del list[0]\n",
        "if list[-1] == '':\n",
        "  del list[-1]\n",
        "\n",
        "\n",
        "print(len(list))"
      ]
    }
  ]
}