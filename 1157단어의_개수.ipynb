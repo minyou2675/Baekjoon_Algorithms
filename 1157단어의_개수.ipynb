{
  "nbformat": 4,
  "nbformat_minor": 0,
  "metadata": {
    "colab": {
      "name": "1157단어의 개수.ipynb",
      "provenance": [],
      "authorship_tag": "ABX9TyNNr0InarAh38hgdyrI9E3l",
      "include_colab_link": true
    },
    "kernelspec": {
      "name": "python3",
      "display_name": "Python 3"
    },
    "language_info": {
      "name": "python"
    }
  },
  "cells": [
    {
      "cell_type": "markdown",
      "metadata": {
        "id": "view-in-github",
        "colab_type": "text"
      },
      "source": [
        "<a href=\"https://colab.research.google.com/github/minyou2675/Baekjoon_Algorithms/blob/main/1157%EB%8B%A8%EC%96%B4%EC%9D%98_%EA%B0%9C%EC%88%98.ipynb\" target=\"_parent\"><img src=\"https://colab.research.google.com/assets/colab-badge.svg\" alt=\"Open In Colab\"/></a>"
      ]
    },
    {
      "cell_type": "code",
      "execution_count": null,
      "metadata": {
        "id": "kGqkh2bsgOiB"
      },
      "outputs": [],
      "source": [
        "s = input()\n",
        "s = s.upper()\n",
        "\n",
        "length = len(s)\n",
        "\n",
        "p = {}\n",
        "index = 0\n",
        "\n",
        "for idx in range(0,length):\n",
        "  i=0\n",
        "  cnt = 0\n",
        "  if (s[idx] not in p):\n",
        "    if s[idx] not in p:\n",
        "      p[s[idx]] = 0\n",
        "    while(i < length):\n",
        "      if s[i] == s[idx]:\n",
        "          cnt += 1\n",
        "          \n",
        "          p[s[idx]] = cnt\n",
        "      i += 1\n",
        "        \n",
        "    \n",
        "\n",
        "max_value = max(p.values())\n",
        "\n",
        "for value in p:\n",
        " \n",
        "  if p[value] == max_value:\n",
        "      index +=1\n",
        "\n",
        "\n",
        "if(index != 1):\n",
        "  print('?')\n",
        "else:\n",
        "  print(max(p, key=p.get) )\n",
        "\n",
        "\n",
        "\n"
      ]
    }
  ]
}