{
  "nbformat": 4,
  "nbformat_minor": 0,
  "metadata": {
    "colab": {
      "name": "11720숫자의합ipynb",
      "provenance": [],
      "authorship_tag": "ABX9TyNljUXuPtl0iQNqYj6f7qR1",
      "include_colab_link": true
    },
    "kernelspec": {
      "name": "python3",
      "display_name": "Python 3"
    },
    "language_info": {
      "name": "python"
    }
  },
  "cells": [
    {
      "cell_type": "markdown",
      "metadata": {
        "id": "view-in-github",
        "colab_type": "text"
      },
      "source": [
        "<a href=\"https://colab.research.google.com/github/minyou2675/Baekjoon_Algorithms/blob/main/11720%EC%88%AB%EC%9E%90%EC%9D%98%ED%95%A9ipynb.ipynb\" target=\"_parent\"><img src=\"https://colab.research.google.com/assets/colab-badge.svg\" alt=\"Open In Colab\"/></a>"
      ]
    },
    {
      "cell_type": "code",
      "execution_count": null,
      "metadata": {
        "colab": {
          "base_uri": "https://localhost:8080/"
        },
        "id": "pKXd2OG8t7OY",
        "outputId": "018809c8-1b38-4319-d745-7c7c9b6dec10"
      },
      "outputs": [
        {
          "name": "stdout",
          "output_type": "stream",
          "text": [
            "5\n",
            "54321\n"
          ]
        },
        {
          "output_type": "execute_result",
          "data": {
            "text/plain": [
              "15"
            ]
          },
          "metadata": {},
          "execution_count": 16
        }
      ],
      "source": [
        "def main():\n",
        "\n",
        "    a = int(input())\n",
        "    b = int(input())\n",
        "    sum = 0\n",
        "  \n",
        "\n",
        "    for i in range(0,a):\n",
        "            sum += int(b%10)\n",
        "          \n",
        "            b = b//10\n",
        "            \n",
        "            a -= 1\n",
        "\n",
        "          \n",
        "    print(sum) \n",
        "          \n",
        "    \n",
        "main()"
      ]
    }
  ]
}