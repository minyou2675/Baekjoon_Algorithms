{
  "nbformat": 4,
  "nbformat_minor": 0,
  "metadata": {
    "colab": {
      "provenance": [],
      "authorship_tag": "ABX9TyPOEb42m28UUeAv9SSDdZfX",
      "include_colab_link": true
    },
    "kernelspec": {
      "name": "python3",
      "display_name": "Python 3"
    },
    "language_info": {
      "name": "python"
    }
  },
  "cells": [
    {
      "cell_type": "markdown",
      "metadata": {
        "id": "view-in-github",
        "colab_type": "text"
      },
      "source": [
        "<a href=\"https://colab.research.google.com/github/minyou2675/Baekjoon_Algorithms/blob/main/Divide%26Conquer/divide%26conquer.ipynb\" target=\"_parent\"><img src=\"https://colab.research.google.com/assets/colab-badge.svg\" alt=\"Open In Colab\"/></a>"
      ]
    },
    {
      "cell_type": "markdown",
      "source": [
        "2630번"
      ],
      "metadata": {
        "id": "VMQr4xIX2FpA"
      }
    },
    {
      "cell_type": "code",
      "source": [
        "\n",
        "n = int(input())\n",
        "\n",
        "square = [list(map(int, input().split())) for _ in range(n)]\n",
        "\n",
        "result = []\n",
        "\n",
        "def solution(x,y,n):\n",
        "  color = square[x][y]\n",
        "  for i in range(x, x+n):\n",
        "    for j in range(y, y+n):\n",
        "      if color != square[i][j]:\n",
        "        solution(x, y, n//2)\n",
        "        solution(x, y+n//2, n//2)\n",
        "        solution(x+n//2, y, n//2)\n",
        "        solution(x+n//2, y+n//2, n//2)\n",
        "        return\n",
        "  if color == 0 :\n",
        "    result.append('0')\n",
        "  else:\n",
        "    result.append('1')\n",
        "\n",
        "solution(0,0,n)\n",
        "print(result.count('0'))\n",
        "print(result.count('1'))"
      ],
      "metadata": {
        "id": "XYY-AF8C2NCQ"
      },
      "execution_count": null,
      "outputs": []
    },
    {
      "cell_type": "markdown",
      "source": [
        "1992번"
      ],
      "metadata": {
        "id": "MlVMuzgU7CL2"
      }
    },
    {
      "cell_type": "code",
      "source": [
        "n = int(input())\n",
        "square = [list(map(int, input())) for _ in range(n)]\n",
        "lst = []\n",
        "\n",
        "\n",
        "def solution(x,y,n):\n",
        " \n",
        "  vector = square[x][y]\n",
        "  for j in range(x,x+n):\n",
        "    \n",
        "    for l in range(y,y+n):\n",
        "      if vector != square[j][l]:\n",
        "          lst.append(\"(\")\n",
        "          solution(x,y,n//2)\n",
        "          solution(x,y+n//2,n//2)\n",
        "          solution(x+n//2,y,n//2)\n",
        "          solution(x+n//2,y+n//2,n//2)\n",
        "         \n",
        "          return lst.append(\")\")\n",
        "\n",
        "  if vector == 1:\n",
        "        lst.append('1') \n",
        "  else:\n",
        "        lst.append(\"0\")\n",
        "  #print(lst)\n",
        "\n",
        "\n",
        "solution(0,0,n)\n",
        "result =''.join(map(str, lst))\n",
        "print(result)\n"
      ],
      "metadata": {
        "id": "0AfRHRy82XAn"
      },
      "execution_count": null,
      "outputs": []
    },
    {
      "cell_type": "markdown",
      "source": [
        "1780번\n"
      ],
      "metadata": {
        "id": "IKNK4MQs7SWa"
      }
    },
    {
      "cell_type": "code",
      "source": [
        "\n",
        "\n",
        "n = int(input())\n",
        "\n",
        "square = [list(map(int, input().split())) for _ in range(n)]\n",
        "lst = []\n",
        "\n",
        "def solution(x,y,n):\n",
        "  paper = square[x][y]\n",
        "\n",
        "  for j in range(x,x+n):\n",
        "    for i in range(y,y+n):\n",
        "      if paper != square[j][i]:\n",
        "          solution(x,y,n//3)\n",
        "          solution(x,y+n//3,n//3)\n",
        "          solution(x,y+(2*n//3),n//3)\n",
        "          solution(x+n//3,y,n//3)\n",
        "          solution(x+n//3,y+n//3,n//3)\n",
        "          solution(x+n//3,y+(2*n//3),n//3)\n",
        "          solution(x+(2*n//3),y,n//3)\n",
        "          solution(x+(2*n//3),y+n//3,n//3)\n",
        "          solution(x+(2*n//3),y+(2*n//3),n//3)\n",
        "          return \n",
        "          \n",
        "  if paper == -1:\n",
        "            lst.append('-1')\n",
        "  elif paper == 0:\n",
        "            lst.append('0')\n",
        "  elif paper == 1:\n",
        "            lst.append('1')\n",
        "      \n",
        "  \n",
        "\n",
        "solution(0,0,n)\n",
        "\n",
        "print(lst.count('-1'))\n",
        "print(lst.count('0'))\n",
        "print(lst.count('1'))\n",
        "\n",
        "      "
      ],
      "metadata": {
        "id": "1ALpzLekkFkt"
      },
      "execution_count": null,
      "outputs": []
    },
    {
      "cell_type": "markdown",
      "source": [
        "2447번"
      ],
      "metadata": {
        "id": "2uyuIfE986Sk"
      }
    },
    {
      "cell_type": "code",
      "source": [
        "n = int(input())\n",
        "\n",
        "def solution(n):\n",
        "  if n == 1:\n",
        "    return['*']\n",
        "\n",
        "  stars = solution(n//3)\n",
        "  lst = []\n",
        "\n",
        "  for _ in stars:\n",
        "      lst.append(_*3)\n",
        "    \n",
        "  for _ in stars:\n",
        "     lst.append(_+' '*(n//3)+_)\n",
        "    \n",
        "  for _ in stars:\n",
        "     lst.append(_*3)\n",
        "  return lst\n",
        "\n",
        "\n",
        "print('\\n'.join(solution(n)))\n",
        "\n",
        "\n",
        "\n"
      ],
      "metadata": {
        "id": "d7uHkwCygcAv"
      },
      "execution_count": null,
      "outputs": []
    },
    {
      "cell_type": "markdown",
      "source": [
        "1074번"
      ],
      "metadata": {
        "id": "PhgUaIri89Mp"
      }
    },
    {
      "cell_type": "code",
      "source": [
        "\n",
        "import sys\n",
        "sys.setrecursionlimit(10**6)\n",
        "\n",
        "N = int(input())\n",
        "c = int(input())\n",
        "r = int(input())\n",
        "\n",
        "\n",
        "square = []\n",
        "n = 2**N \n",
        "cnt = 0 \n",
        "# for x in range(0,2**n):\n",
        "#   for y in range(0,2**n):\n",
        "#     square.append(0)\n",
        "\n",
        "def solution(x,y,N):\n",
        "  global cnt\n",
        "  if N-x == 2:\n",
        "    for j in range(x,x+N):\n",
        "      for i in range(y, y+N):\n",
        "        square.append(cnt)\n",
        "        cnt =  cnt+ 1\n",
        "          \n",
        "\n",
        "  else:\n",
        "      solution(x,y,N//2)\n",
        "      solution(x,y+N//2,N)\n",
        "      solution(x+N//2,y,N)\n",
        "      solution(x+N//2,y+N//2,N)\n",
        "  \n",
        "  return \n",
        "\n",
        "\n",
        "solution(0,0,n)\n",
        "print(square[r][c])\n"
      ],
      "metadata": {
        "colab": {
          "base_uri": "https://localhost:8080/"
        },
        "id": "f96wcdZ9qcXr",
        "outputId": "81d6a505-5a3a-4ab3-b5cb-34b8f0356b28"
      },
      "execution_count": null,
      "outputs": [
        {
          "name": "stdout",
          "output_type": "stream",
          "text": [
            "3\n",
            "2\n",
            "1\n"
          ]
        }
      ]
    },
    {
      "cell_type": "markdown",
      "source": [
        "1725번"
      ],
      "metadata": {
        "id": "A10EzqLLVitT"
      }
    },
    {
      "cell_type": "code",
      "source": [
        "num = int(input())\n",
        "list = map(int, input().split('\\n'))\n",
        "square = []\n",
        "\n",
        "def partition(n): \n",
        "  pivot = square[]\n",
        "  pivot = square[]\n",
        "\n",
        "\n",
        "def solution(list):\n",
        "  for i in enumerate(list):\n",
        "    if i % 2 != 0:\n",
        "      i= i - 1\n",
        "       square.append(i)\n",
        "    else:\n",
        "      square.append(i)\n",
        "  \n",
        "  for i in range(0,num):\n",
        "    if i == 0:\n",
        "      result.append(square[i]*square[i+1])\n",
        "    if i < num-1:\n",
        "      \n",
        "\n",
        "    if i == num-1:\n",
        "      result.append(square[i-1]*square[i])\n",
        "      result.append(square[i-1])\n"
      ],
      "metadata": {
        "id": "iQnbBRqTqK2g"
      },
      "execution_count": null,
      "outputs": []
    }
  ]
}