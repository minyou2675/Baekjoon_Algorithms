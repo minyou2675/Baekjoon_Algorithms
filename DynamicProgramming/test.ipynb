{
 "cells": [
  {
   "cell_type": "code",
   "execution_count": 1,
   "metadata": {},
   "outputs": [
    {
     "ename": "ValueError",
     "evalue": "not enough values to unpack (expected 2, got 0)",
     "output_type": "error",
     "traceback": [
      "\u001b[1;31m---------------------------------------------------------------------------\u001b[0m",
      "\u001b[1;31mValueError\u001b[0m                                Traceback (most recent call last)",
      "Cell \u001b[1;32mIn[1], line 8\u001b[0m\n\u001b[0;32m      4\u001b[0m \t\u001b[39mreturn\u001b[39;00m\n\u001b[0;32m      7\u001b[0m houses \u001b[39m=\u001b[39m []\n\u001b[1;32m----> 8\u001b[0m houses_rows, houses_cols  \u001b[39m=\u001b[39m \u001b[39mmap\u001b[39m(\u001b[39mint\u001b[39m, \u001b[39minput\u001b[39m()\u001b[39m.\u001b[39msplit())\n\u001b[0;32m      9\u001b[0m \u001b[39mfor\u001b[39;00m idx \u001b[39min\u001b[39;00m \u001b[39mrange\u001b[39m(houses_rows):\n\u001b[0;32m     10\u001b[0m   houses\u001b[39m.\u001b[39mappend(\u001b[39mlist\u001b[39m(\u001b[39mmap\u001b[39m(\u001b[39mint\u001b[39m, \u001b[39minput\u001b[39m()\u001b[39m.\u001b[39msplit())))\n",
      "\u001b[1;31mValueError\u001b[0m: not enough values to unpack (expected 2, got 0)"
     ]
    }
   ],
   "source": [
    "def largestLand(houses):\n",
    "\t# Write your code here\n",
    "\n",
    "\treturn\n",
    "\n",
    "\n",
    "houses = []\n",
    "houses_rows, houses_cols  = map(int, input().split())\n",
    "for idx in range(houses_rows):\n",
    "  houses.append(list(map(int, input().split())))\n",
    "print(\"houses\",houses.sort(key=lambda x: (x[1], -x[0])))\n",
    "\n",
    "result = largestLand(houses)\n",
    "print(\" \".join([str(res) for res in result]))\t\n",
    "\n"
   ]
  }
 ],
 "metadata": {
  "kernelspec": {
   "display_name": "Python 3",
   "language": "python",
   "name": "python3"
  },
  "language_info": {
   "codemirror_mode": {
    "name": "ipython",
    "version": 3
   },
   "file_extension": ".py",
   "mimetype": "text/x-python",
   "name": "python",
   "nbconvert_exporter": "python",
   "pygments_lexer": "ipython3",
   "version": "3.8.10"
  },
  "orig_nbformat": 4
 },
 "nbformat": 4,
 "nbformat_minor": 2
}
