{
  "nbformat": 4,
  "nbformat_minor": 0,
  "metadata": {
    "colab": {
      "name": "기본수학1.ipynb",
      "provenance": [],
      "authorship_tag": "ABX9TyO9r1zmCqzuE8iJJx+4ulKC",
      "include_colab_link": true
    },
    "kernelspec": {
      "name": "python3",
      "display_name": "Python 3"
    },
    "language_info": {
      "name": "python"
    }
  },
  "cells": [
    {
      "cell_type": "markdown",
      "metadata": {
        "id": "view-in-github",
        "colab_type": "text"
      },
      "source": [
        "<a href=\"https://colab.research.google.com/github/minyou2675/Baekjoon_Algorithms/blob/main/%EA%B8%B0%EB%B3%B8%EC%88%98%ED%95%991.ipynb\" target=\"_parent\"><img src=\"https://colab.research.google.com/assets/colab-badge.svg\" alt=\"Open In Colab\"/></a>"
      ]
    },
    {
      "cell_type": "markdown",
      "source": [
        "2775번 부녀회장이 될테야"
      ],
      "metadata": {
        "id": "_AAgIeN7hOjo"
      }
    },
    {
      "cell_type": "code",
      "source": [
        "\n",
        "def count(floor, room):\n",
        "    columns = 15\n",
        "    rows = floor\n",
        "    num = [[0 for i in range(columns)] for j in range(0,rows+1)]\n",
        "\n",
        "    for i in range(0,columns):\n",
        "      num[0][i] = i\n",
        "   \n",
        "\n",
        "    for i in range(1,floor+1):\n",
        "      for j in range(1,room+1):\n",
        "        for k in range(1,j+1):\n",
        "          num[i][j] += num[i-1][k]\n",
        "\n",
        "    return int(num[floor][room])\n",
        "\n",
        "\n",
        "def main():\n",
        "  T_case = int(input())\n",
        "  cnt = 0\n",
        "  num = []\n",
        "  while(cnt < T_case):\n",
        "    floor = int(input())\n",
        "    room = int(input())\n",
        "    num.append(count(floor,room))\n",
        "    cnt += 1\n",
        "  print(*num[0:],sep ='\\n')\n",
        "\n",
        "main()\n",
        "  \n",
        "\n",
        "\n",
        "\n"
      ],
      "metadata": {
        "colab": {
          "base_uri": "https://localhost:8080/"
        },
        "id": "m0YWprcDhPfl",
        "outputId": "3bf4095a-2060-420c-cd9d-592083aa2c63"
      },
      "execution_count": null,
      "outputs": [
        {
          "output_type": "stream",
          "name": "stdout",
          "text": [
            "2\n",
            "1\n",
            "3\n",
            "2\n",
            "3\n",
            "6\n",
            "10\n"
          ]
        }
      ]
    },
    {
      "cell_type": "markdown",
      "source": [
        "1193번 분수찾기"
      ],
      "metadata": {
        "id": "LVCPNPSGqb-f"
      }
    },
    {
      "cell_type": "code",
      "source": [
        "\n",
        "  \n",
        "num = int(input())\n",
        "idx = 1\n",
        "columns = 1\n",
        "cnt = 1\n",
        "\n",
        "\n",
        "\n",
        "while(cnt != num):  \n",
        "        if(idx % 2 == 0):\n",
        "          idx += 1\n",
        "          cnt += 1 \n",
        "        \n",
        "          while(idx != 1 and cnt != num):\n",
        "         \n",
        "            idx -= 1\n",
        "            columns += 1\n",
        "            cnt += 1\n",
        "            \n",
        "          \n",
        "        else:\n",
        "          columns += 1\n",
        "          cnt += 1 \n",
        "       \n",
        "          while(columns != 1 and cnt != num):\n",
        "          \n",
        "            idx += 1\n",
        "            columns -= 1\n",
        "            cnt += 1\n",
        "          \n",
        "\n",
        "\n",
        "print(f'{idx}/{columns}')\n",
        "\n",
        "  \n",
        "  \n",
        "\n"
      ],
      "metadata": {
        "colab": {
          "base_uri": "https://localhost:8080/"
        },
        "id": "z8G_m5jXqXKX",
        "outputId": "07ccea10-84fb-4554-b064-235e43c9f3e8"
      },
      "execution_count": 1,
      "outputs": [
        {
          "output_type": "stream",
          "name": "stdout",
          "text": [
            "5\n",
            "2/2\n"
          ]
        }
      ]
    },
    {
      "cell_type": "code",
      "source": [
        ""
      ],
      "metadata": {
        "id": "CU1-LHMo251z"
      },
      "execution_count": null,
      "outputs": []
    }
  ]
}