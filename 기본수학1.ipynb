{
  "nbformat": 4,
  "nbformat_minor": 0,
  "metadata": {
    "colab": {
      "name": "기본수학1.ipynb",
      "provenance": [],
      "authorship_tag": "ABX9TyOQ6gFpk1rQPr16SlPmhs7G",
      "include_colab_link": true
    },
    "kernelspec": {
      "name": "python3",
      "display_name": "Python 3"
    },
    "language_info": {
      "name": "python"
    }
  },
  "cells": [
    {
      "cell_type": "markdown",
      "metadata": {
        "id": "view-in-github",
        "colab_type": "text"
      },
      "source": [
        "<a href=\"https://colab.research.google.com/github/minyou2675/Baekjoon_Algorithms/blob/main/%EA%B8%B0%EB%B3%B8%EC%88%98%ED%95%991.ipynb\" target=\"_parent\"><img src=\"https://colab.research.google.com/assets/colab-badge.svg\" alt=\"Open In Colab\"/></a>"
      ]
    },
    {
      "cell_type": "markdown",
      "source": [
        "2775번 부녀회장이 될테야"
      ],
      "metadata": {
        "id": "_AAgIeN7hOjo"
      }
    },
    {
      "cell_type": "code",
      "source": [
        "\n",
        "def count(floor, room):\n",
        "    columns = 15\n",
        "    rows = floor\n",
        "    num = [[0 for i in range(columns)] for j in range(0,rows+1)]\n",
        "\n",
        "    for i in range(0,columns):\n",
        "      num[0][i] = i\n",
        "   \n",
        "\n",
        "    for i in range(1,floor+1):\n",
        "      for j in range(1,room+1):\n",
        "        for k in range(1,j+1):\n",
        "          num[i][j] += num[i-1][k]\n",
        "\n",
        "    return int(num[floor][room])\n",
        "\n",
        "\n",
        "def main():\n",
        "  T_case = int(input())\n",
        "  cnt = 0\n",
        "  num = []\n",
        "  while(cnt < T_case):\n",
        "    floor = int(input())\n",
        "    room = int(input())\n",
        "    num.append(count(floor,room))\n",
        "    cnt += 1\n",
        "  print(*num[0:],sep ='\\n')\n",
        "\n",
        "main()\n",
        "  \n",
        "\n",
        "\n",
        "\n"
      ],
      "metadata": {
        "colab": {
          "base_uri": "https://localhost:8080/"
        },
        "id": "m0YWprcDhPfl",
        "outputId": "3bf4095a-2060-420c-cd9d-592083aa2c63"
      },
      "execution_count": 38,
      "outputs": [
        {
          "output_type": "stream",
          "name": "stdout",
          "text": [
            "2\n",
            "1\n",
            "3\n",
            "2\n",
            "3\n",
            "6\n",
            "10\n"
          ]
        }
      ]
    }
  ]
}