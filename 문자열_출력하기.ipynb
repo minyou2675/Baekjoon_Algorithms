{
  "nbformat": 4,
  "nbformat_minor": 0,
  "metadata": {
    "colab": {
      "name": "문자열 출력하기.ipynb",
      "provenance": [],
      "authorship_tag": "ABX9TyP6kwRbg0g4+tQgFzdMrBGi",
      "include_colab_link": true
    },
    "kernelspec": {
      "name": "python3",
      "display_name": "Python 3"
    },
    "language_info": {
      "name": "python"
    }
  },
  "cells": [
    {
      "cell_type": "markdown",
      "metadata": {
        "id": "view-in-github",
        "colab_type": "text"
      },
      "source": [
        "<a href=\"https://colab.research.google.com/github/minyou2675/Baekjoon_Algorithms/blob/main/%EB%AC%B8%EC%9E%90%EC%97%B4_%EC%B6%9C%EB%A0%A5%ED%95%98%EA%B8%B0.ipynb\" target=\"_parent\"><img src=\"https://colab.research.google.com/assets/colab-badge.svg\" alt=\"Open In Colab\"/></a>"
      ]
    },
    {
      "cell_type": "code",
      "execution_count": null,
      "metadata": {
        "colab": {
          "base_uri": "https://localhost:8080/"
        },
        "id": "_KWd9OO-_Hkc",
        "outputId": "b775ff3b-4356-4427-b825-837489efe0c7"
      },
      "outputs": [
        {
          "output_type": "stream",
          "name": "stdout",
          "text": [
            "234 923\n",
            "432\n"
          ]
        }
      ],
      "source": [
        "#2908상수\n",
        "a, b = map(int, input().split(' '))\n",
        "inv_a= 0\n",
        "inv_b = 0\n",
        "for i in range(0,3):\n",
        "  inv_a += int(a%10) *10**(2-i)\n",
        "  a= int(a/10)\n",
        "\n",
        "for i in range(0,3):\n",
        "  inv_b += int(b%10)* 10**(2-i)\n",
        "  b= int(b/10)\n",
        "\n",
        "if inv_a > inv_b:\n",
        "  print(inv_a)\n",
        "else:\n",
        "  print(inv_b)\n",
        "  "
      ]
    },
    {
      "cell_type": "markdown",
      "source": [
        "5622다이얼"
      ],
      "metadata": {
        "id": "tlxfC3VWB1ZM"
      }
    },
    {
      "cell_type": "code",
      "source": [
        "s = input()\n",
        "length = len(s)\n",
        "eng_list ='abcdefghijklmnopqrstuvwxyz'\n",
        "eng_list = eng_list.upper()\n",
        "eng_list = list(eng_list)\n",
        "dial_list = {}\n",
        "for i in range(2,7):\n",
        "  dial_list[i] = eng_list[0:3]\n",
        "  del eng_list[0:3]\n",
        "\n",
        "dial_list[7] = eng_list[0:4]\n",
        "dial_list[8]= eng_list[4:7]\n",
        "dial_list[9]= eng_list[7:11]\n",
        "\n",
        "\n",
        "\n",
        "sum=0\n",
        "\n",
        "for i in range(0,length):\n",
        " \n",
        "    for j in range(2,10):\n",
        "      if(s[i] in dial_list[j]):\n",
        "        sum += 1+j\n",
        "      else:\n",
        "        sum += 0\n",
        "\n",
        "\n",
        "\n",
        " \n",
        "print(sum)\n",
        "\n",
        "\n",
        "\n",
        "\n"
      ],
      "metadata": {
        "colab": {
          "base_uri": "https://localhost:8080/"
        },
        "id": "8zHA04ptDPvW",
        "outputId": "ba8dfa78-5872-4ee3-bc67-b465cb5d1883"
      },
      "execution_count": null,
      "outputs": [
        {
          "output_type": "stream",
          "name": "stdout",
          "text": [
            "Z\n",
            "{2: ['A', 'B', 'C'], 3: ['D', 'E', 'F'], 4: ['G', 'H', 'I'], 5: ['J', 'K', 'L'], 6: ['M', 'N', 'O'], 7: ['P', 'Q', 'R', 'S'], 8: ['T', 'U', 'V'], 9: ['W', 'X', 'Y', 'Z']}\n",
            "10\n"
          ]
        }
      ]
    },
    {
      "cell_type": "markdown",
      "source": [
        "2941번 크로아티아 알파벳"
      ],
      "metadata": {
        "id": "4NLPbwm8Rnco"
      }
    },
    {
      "cell_type": "code",
      "source": [
        "s = input()\n",
        "length = len(s)\n",
        "cnt = 0\n",
        "list = ['c=','c-','dz=','d-','lj','nj','s=','z=']\n",
        "i=0\n",
        "\n",
        "for i in range(0,8):\n",
        " \n",
        "  if list[i] in s:\n",
        "    if list[i] == 'dz=':\n",
        "      cnt += 1 * s.count(list[i])\n",
        "      length -= 3 * s.count(list[i])\n",
        "      s= s.replace('dz=',' ')\n",
        "     \n",
        "    \n",
        "    else:\n",
        "      \n",
        "      cnt += 1 * s.count(list[i])         \n",
        "      length -= 2 * s.count(list[i])\n",
        "      s=s.replace(list[i],' ')\n",
        "     \n",
        "\n",
        "cnt += length\n",
        "   \n",
        "\n",
        "\n",
        "  \n",
        "    \n",
        "  \n",
        "   \n",
        "print(cnt)\n"
      ],
      "metadata": {
        "id": "Z4hoYzv2Pgve"
      },
      "execution_count": null,
      "outputs": []
    },
    {
      "cell_type": "markdown",
      "source": [
        "1316번 - 그룹 단어 체커"
      ],
      "metadata": {
        "id": "5ukoDcCsCknB"
      }
    },
    {
      "cell_type": "code",
      "source": [
        "word_num = int(input())\n",
        "word = {}\n",
        "for i in range(0,word_num):\n",
        "  word[i]= input()\n",
        "\n",
        "cnt = word_num\n",
        "\n",
        "for i in range(0,word_num):\n",
        "  word_list = []\n",
        "  for k, j in enumerate(word[i]):\n",
        "    if j not in word_list:\n",
        "      word_list.append(j)\n",
        "    elif word[i][k-1] == j:\n",
        "      continue\n",
        "    else:\n",
        "      cnt -= 1\n",
        "      break\n",
        "\n",
        "\n",
        "print(cnt)\n",
        "\n",
        "\n",
        "\n",
        "    \n",
        "      \n",
        "\n",
        "      "
      ],
      "metadata": {
        "id": "YDHdU8nGCj2l",
        "colab": {
          "base_uri": "https://localhost:8080/"
        },
        "outputId": "a66a2603-324b-4254-bd01-48bbcbdac7f8"
      },
      "execution_count": 17,
      "outputs": [
        {
          "output_type": "stream",
          "name": "stdout",
          "text": [
            "4\n",
            "aba\n",
            "abab\n",
            "abcabc\n",
            "a\n",
            "1\n"
          ]
        }
      ]
    },
    {
      "cell_type": "code",
      "source": [
        ""
      ],
      "metadata": {
        "id": "qH66fU7a4kNh"
      },
      "execution_count": null,
      "outputs": []
    }
  ]
}