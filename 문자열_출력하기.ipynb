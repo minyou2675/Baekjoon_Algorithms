{
  "nbformat": 4,
  "nbformat_minor": 0,
  "metadata": {
    "colab": {
      "name": "문자열 출력하기.ipynb",
      "provenance": [],
      "authorship_tag": "ABX9TyOAdvwW9ONom2ab6ueYAbHB",
      "include_colab_link": true
    },
    "kernelspec": {
      "name": "python3",
      "display_name": "Python 3"
    },
    "language_info": {
      "name": "python"
    }
  },
  "cells": [
    {
      "cell_type": "markdown",
      "metadata": {
        "id": "view-in-github",
        "colab_type": "text"
      },
      "source": [
        "<a href=\"https://colab.research.google.com/github/minyou2675/Baekjoon_Algorithms/blob/main/%EB%AC%B8%EC%9E%90%EC%97%B4_%EC%B6%9C%EB%A0%A5%ED%95%98%EA%B8%B0.ipynb\" target=\"_parent\"><img src=\"https://colab.research.google.com/assets/colab-badge.svg\" alt=\"Open In Colab\"/></a>"
      ]
    },
    {
      "cell_type": "code",
      "execution_count": 5,
      "metadata": {
        "colab": {
          "base_uri": "https://localhost:8080/"
        },
        "id": "_KWd9OO-_Hkc",
        "outputId": "b775ff3b-4356-4427-b825-837489efe0c7"
      },
      "outputs": [
        {
          "output_type": "stream",
          "name": "stdout",
          "text": [
            "234 923\n",
            "432\n"
          ]
        }
      ],
      "source": [
        "#2908상수\n",
        "a, b = map(int, input().split(' '))\n",
        "inv_a= 0\n",
        "inv_b = 0\n",
        "for i in range(0,3):\n",
        "  inv_a += int(a%10) *10**(2-i)\n",
        "  a= int(a/10)\n",
        "\n",
        "for i in range(0,3):\n",
        "  inv_b += int(b%10)* 10**(2-i)\n",
        "  b= int(b/10)\n",
        "\n",
        "if inv_a > inv_b:\n",
        "  print(inv_a)\n",
        "else:\n",
        "  print(inv_b)\n",
        "  "
      ]
    },
    {
      "cell_type": "markdown",
      "source": [
        "5622다이얼"
      ],
      "metadata": {
        "id": "tlxfC3VWB1ZM"
      }
    },
    {
      "cell_type": "markdown",
      "source": [
        ""
      ],
      "metadata": {
        "id": "bA0RcrPoBtay"
      }
    }
  ]
}